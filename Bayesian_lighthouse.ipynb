{
 "cells": [
  {
   "cell_type": "code",
   "execution_count": 1,
   "metadata": {},
   "outputs": [
    {
     "data": {
      "text/plain": [
       "'%.3f'"
      ]
     },
     "execution_count": 1,
     "metadata": {},
     "output_type": "execute_result"
    }
   ],
   "source": [
    "import numpy as np\n",
    "import matplotlib.pyplot as plt\n",
    "%precision 3"
   ]
  },
  {
   "cell_type": "code",
   "execution_count": 2,
   "metadata": {},
   "outputs": [],
   "source": [
    "def inv_cauchy_cdf(y, a):\n",
    "    b = 1\n",
    "    return(a + b * np.tan(np.pi * (y - 0.5)))\n",
    "\n",
    "def make_data(a, n):\n",
    "    b = 1\n",
    "    ys = np.random.rand(n)\n",
    "    return(inv_cauchy_cdf(ys, a))"
   ]
  },
  {
   "cell_type": "code",
   "execution_count": 3,
   "metadata": {},
   "outputs": [],
   "source": [
    "def p_xk_given_a(xk, a):\n",
    "    b = 1\n",
    "    return(b / (np.pi * (b**2 + (xk - a)**2)))"
   ]
  },
  {
   "cell_type": "code",
   "execution_count": 4,
   "metadata": {},
   "outputs": [],
   "source": [
    "def pdf_95_region_ii(pdf):\n",
    "    norm_cdf = np.cumsum(pdf)\n",
    "    norm_cdf = norm_cdf / max(norm_cdf)\n",
    "    return([np.argmax(norm_cdf > 0.025), np.argmax(norm_cdf > 0.975)])"
   ]
  },
  {
   "cell_type": "code",
   "execution_count": 5,
   "metadata": {},
   "outputs": [
    {
     "name": "stdout",
     "output_type": "stream",
     "text": [
      "2.68306307818815\n"
     ]
    }
   ],
   "source": [
    "a_test = 20 * np.random.rand() - 10;\n",
    "print(a_test)"
   ]
  },
  {
   "cell_type": "code",
   "execution_count": 11,
   "metadata": {},
   "outputs": [
    {
     "name": "stdout",
     "output_type": "stream",
     "text": [
      "2.070139513027236\n",
      "2.4933530642014405\n"
     ]
    },
    {
     "data": {
      "image/png": "[encoded data removed]",
      "text/plain": [
       "<matplotlib.figure.Figure at 0x10a8366d8>"
      ]
     },
     "metadata": {},
     "output_type": "display_data"
    }
   ],
   "source": [
    "n = 20\n",
    "xk_data = make_data(a_test, n)\n",
    "# print(xk_data)\n",
    "print(np.mean(xk_data))\n",
    "print(np.median(xk_data))\n",
    "plt.hist(xk_data, np.arange(-20, 20));\n",
    "plt.show()"
   ]
  },
  {
   "cell_type": "code",
   "execution_count": 12,
   "metadata": {},
   "outputs": [
    {
     "name": "stdout",
     "output_type": "stream",
     "text": [
      "2.48\n",
      "[1.79 3.18]\n"
     ]
    }
   ],
   "source": [
    "a_list = np.arange(0, 15, 0.01);\n",
    "posterior_pdf = [sum(np.log(p_xk_given_a(xk_data, a))) for a in a_list]\n",
    "posterior_pdf = np.exp(posterior_pdf - max(posterior_pdf))\n",
    "posterior_max = a_list[np.argmax(posterior_pdf)]\n",
    "print(posterior_max)\n",
    "[pdf_95_minii, pdf_95_maxii] = pdf_95_region_ii(posterior_pdf)\n",
    "print(a_list[[pdf_95_minii, pdf_95_maxii]])"
   ]
  },
  {
   "cell_type": "code",
   "execution_count": 13,
   "metadata": {},
   "outputs": [
    {
     "data": {
      "image/png": "[encoded data removed]",
      "text/plain": [
       "<matplotlib.figure.Figure at 0x10ac640f0>"
      ]
     },
     "metadata": {},
     "output_type": "display_data"
    }
   ],
   "source": [
    "plt.plot(a_list, posterior_pdf)\n",
    "plt.axvline(x=a_test, color='k')\n",
    "plt.axhline(y=0, color='k', linewidth=1, alpha=0.5)\n",
    "plt.fill_between(a_list[pdf_95_minii:pdf_95_maxii],\n",
    "                 posterior_pdf[pdf_95_minii:pdf_95_maxii],\n",
    "                alpha = 0.2)\n",
    "plt.xlim(-5,5)\n",
    "plt.show()"
   ]
  },
  {
   "cell_type": "code",
   "execution_count": null,
   "metadata": {},
   "outputs": [],
   "source": []
  }
 ],
 "metadata": {
  "kernelspec": {
   "display_name": "Python 3",
   "language": "python",
   "name": "python3"
  },
  "language_info": {
   "codemirror_mode": {
    "name": "ipython",
    "version": 3
   },
   "file_extension": ".py",
   "mimetype": "text/x-python",
   "name": "python",
   "nbconvert_exporter": "python",
   "pygments_lexer": "ipython3",
   "version": "3.6.4"
  }
 },
 "nbformat": 4,
 "nbformat_minor": 2
}
